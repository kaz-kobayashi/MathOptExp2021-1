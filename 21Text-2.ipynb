{
 "cells": [
  {
   "cell_type": "markdown",
   "metadata": {},
   "source": [
    "#  Scipyによる最適化 -第2回-\n",
    "\n",
    "Scientific computing tools or Python\n",
    "\n",
    "https://docs.scipy.org/doc/scipy/reference/tutorial/optimize.html\n",
    "\n",
    "SciPyは，Pythonによる科学技術計算のためのオープンソースソフトウェアを利用可能な仕組みである。\n",
    "\n",
    "Scipyは，NumPyパッケージを内部で用いている。具体的には，NumPyで定義された基本的なデータ構造（配列や行列）や，基本的な演算を用いている。また，図示するためにはMatplotlibを用いている。\n",
    "\n"
   ]
  },
  {
   "cell_type": "markdown",
   "metadata": {},
   "source": [
    "# 制約なし最適化（多変数スカラー関数） - `minimize`\n",
    "\n",
    "\n",
    "`minimize`関数は，`scipy.optimize`で利用可能な，多変数スカラー関数の制約なし最適化・制約付き最適化のためのインターフェイスである。\n",
    "\n",
    "最適化問題の例として，次の$N変数のRosenbrock関数の最小化問題を取り上げる。　\n",
    "\n",
    "$$\n",
    "f(x)=\\sum_{i=1}^{N-1}　100\\left(x_{i+1}-x_i^2 \\right)^2 + \\left( 1-x_i\\right)^2\n",
    "$$\n",
    "\n",
    "この関数の最小解は直感で得ることができ，明らかに，$x_i=1$である。\n",
    "\n",
    "Rosenbrock関数は，よく用いられる関数である。したがって，`scipy.optimize`に既に定義されており，ユーザがあらためて定義する必要はない。ここでは，この関数を用いて，目的関数の定義，ヤコビ行列の定義，ヘッセ行列の定義の方法を述べる。\n",
    "\n",
    "ヤコビ行列とヘッセ行列については下記の文書を参照すること。\n",
    "\n",
    "安部恵介，関数の勾配とヘッセ行列，九州産業大学理工学部講義資料\n",
    "\n",
    "http://www.is.kyusan-u.ac.jp/~abe/optprba153.pdf\n",
    "\n"
   ]
  },
  {
   "cell_type": "markdown",
   "metadata": {},
   "source": [
    "## ニュートンCG法\n",
    "\n",
    "多変数スカラー関数の最小化問題を解くアルゴリズムには様々なものがある。ここではそれらのうち，ニュートンCG法を扱う。ニュートンCG法は，ニュートン法を修正したものである。この方法では，局所的ヘッセ行列の逆行列を求めるために，CGアルゴリズムを用いる。\n",
    "\n",
    "ニュートン法は，関数$f(x)$を二次関数で局所的に近似する方法に基づいている。\n",
    "\n",
    "$$\n",
    "f(x) \\approx f(x_0) + \\nabla f(x_0)\\cdot \\left(x-x_0 \\right)+\\frac{1}{2}\\left(x-x_0\\right)^{\\top}H\\left(x_0\\right)\\left(x-x_0\\right),\n",
    "$$\n",
    "\n",
    "ここで，$H(x_0)$はヘッセ行列である。$H(x_0)$は$\\nabla^2 f(x_0)$とも表される。ヘッセ行列が正定値であれば，二次形式の勾配を0とすることで関数$f(x)$の局所最小解を求めることができる。この局所最適解は，次の式で与えられる。\n",
    "\n",
    "$$\n",
    "x_{\\text{opt}} = x_0 - H^{-1} \\nabla f.\n",
    "$$\n",
    "\n",
    "これから，ヘッセ行列の逆行列は，CG法を用いて計算される。この方法で，Rosenbrock関数の局所最小解を求める方法を示す。\n",
    "\n",
    "ニュートンCG法はヘッセ行列を用いるので，ヘッセ行列の計算方法を与える必要がある。ここで注意することは，ヘッセ行列自体は求める必要はなく，ヘッセ行列と任意のベクトルとの積を評価することができればよい。したがって，ヘッセ行列を与える方法を指定してもよいし，ヘッセ行列と任意のベクトルとの積を評価する方法を指定してもよい。\n",
    "\n",
    "### ヘッセ行列を与える方法\n",
    "\n",
    "Rosenbrock関数のヘッセ行列は，次の式で与えられる。\n",
    "\n",
    "$$\n",
    "H_{ij}=\\frac{\\partial^2 f}{\\partial x_i \\partial x_j} = 200\n",
    "\\left(\n",
    "\\delta_{i,j} - 2x_{i-1} \\delta_{i-1,j}  \\right)\n",
    "-400 x_i \\left(\\delta_{i+1,j}-2x_i\\delta_{i,j} \\right) \n",
    "-400 \\delta_{i,j} \\left( x_{i+1}-x_i^2 \\right)+2 \\delta_{i,j}\n",
    "$$\n",
    "$$\n",
    "= \\left( 202+1200x_i^2-400x_{i+1}\\right)\\delta_{i,j} - 400x_i \\delta_{i+1,j} - 400x_{i-1} \\delta_{i-1,j}\n",
    "$$\n"
   ]
  },
  {
   "cell_type": "markdown",
   "metadata": {},
   "source": [
    "--------\n",
    "## 課題1\n",
    "\n",
    "$N=3$のRosenbrock関数を書け。また，そのヘッセ行列を書け。\n",
    "\n",
    "--------\n"
   ]
  },
  {
   "cell_type": "markdown",
   "metadata": {},
   "source": [
    "$N=5$のRosenbrock関数に対するヘッセ行列は，次のとおりである。\n",
    "\n",
    "$$\n",
    "H=\n",
    "\\begin{bmatrix}\n",
    "1200x_0^2-400x_1+2 & -400x_0 & 0 & 0 & 0 \\\\\n",
    "-400x_0 & 202+1200x_1^2-400x_2 & -400x_1 & 0 & 0\\\\\n",
    "0 & -400x_1 & 202+1200x_2^2-400x_3 & -400x_2 & 0 \\\\\n",
    "0 & 0 & -400x_2 & 202+1200x_3^2-400x_4 & 0  \\\\\n",
    "0 & 0 & 0 & -400x_3 & 200 \n",
    "\\end{bmatrix}\n",
    "$$"
   ]
  },
  {
   "cell_type": "markdown",
   "metadata": {},
   "source": [
    "ヘッセ行列を用いてニュートンCG法で局所最適解を求めるプログラムは，次のとおりである。　"
   ]
  },
  {
   "cell_type": "code",
   "execution_count": null,
   "metadata": {},
   "outputs": [],
   "source": [
    "from scipy.optimize import *\n",
    "import numpy as np"
   ]
  },
  {
   "cell_type": "code",
   "execution_count": null,
   "metadata": {},
   "outputs": [],
   "source": [
    "def rosen_hess(x):\n",
    "    x = np.asarray(x)\n",
    "    H = np.diag(-400*x[:-1],1) - np.diag(400*x[:-1],-1)\n",
    "    diagonal = np.zeros_like(x)\n",
    "    diagonal[0] = 1200*x[0]**2-400*x[1]+2\n",
    "    diagonal[-1] = 200\n",
    "    diagonal[1:-1] = 202 + 1200*x[1:-1]**2 - 400*x[2:]\n",
    "    H = H + np.diag(diagonal)\n",
    "    return H"
   ]
  },
  {
   "cell_type": "code",
   "execution_count": null,
   "metadata": {},
   "outputs": [],
   "source": [
    "x0 = np.array([1.3, 0.7, 0.8, 1.9, 1.2])\n",
    "res = minimize(rosen, x0, method='Newton-CG',\n",
    "               jac=rosen_der, hess=rosen_hess,\n",
    "               options={'xtol': 1e-8, 'disp': True})"
   ]
  },
  {
   "cell_type": "code",
   "execution_count": null,
   "metadata": {},
   "outputs": [],
   "source": [
    "print(res.x)"
   ]
  },
  {
   "cell_type": "markdown",
   "metadata": {},
   "source": [
    "### ヘッセ行列とベクトルとの積を与える方法\n",
    "\n",
    "大規模な問題を扱う際には，ヘッセ行列を保存したりその逆行列を求めたりするのは負荷が大きく現実的ではない。そのような場合は，ヘッセ行列を直接与えるのではなく，ヘッセ行列とベクトルとの積を与える方法が望ましい。\n",
    "\n",
    "Rosenbrock関数のヘッセ行列と任意のベクトル($p$とする）との積は，次のとおりである。\n",
    "\n",
    "$$\n",
    "H(x)p= \n",
    "\\begin{bmatrix}\n",
    "\\left(1200x_0^2-400x_1+2 \\right)p_0-400x_0p_1 \\\\ \n",
    "\\vdots \\\\\n",
    "-400x_{i-1}p_{i-1}+\\left(202+1200x_i^2-400x_{i+1}\\right)p_i-400x_ip_{i+1} \\\\\n",
    "\\vdots \\\\ \n",
    "-400x_{N-2}p_{N-2}+200p_{N-1}\n",
    "\\end{bmatrix}\n",
    "$$\n",
    "このベクトルを与える関数は，次のとおりである。　\n"
   ]
  },
  {
   "cell_type": "code",
   "execution_count": null,
   "metadata": {},
   "outputs": [],
   "source": [
    "def rosen_hess_p(x, p):\n",
    "    x = np.asarray(x)\n",
    "    Hp = np.zeros_like(x)\n",
    "    Hp[0] = (1200*x[0]**2 - 400*x[1] + 2)*p[0] - 400*x[0]*p[1]\n",
    "    Hp[1:-1] = -400*x[:-2]*p[:-2]+(202+1200*x[1:-1]**2-400*x[2:])*p[1:-1] \\\n",
    "               -400*x[1:-1]*p[2:]\n",
    "    Hp[-1] = -400*x[-2]*p[-2] + 200*p[-1]\n",
    "    return Hp"
   ]
  },
  {
   "cell_type": "markdown",
   "metadata": {},
   "source": [
    "こうして定義した関数を用いてニュートンCG法にり最小解を求めるプログラムは，次のとおりである。"
   ]
  },
  {
   "cell_type": "code",
   "execution_count": null,
   "metadata": {},
   "outputs": [],
   "source": [
    "res = minimize(rosen, x0, method='Newton-CG',\n",
    "               jac=rosen_der, hessp=rosen_hess_p,\n",
    "               options={'xtol': 1e-8, 'disp': True})"
   ]
  },
  {
   "cell_type": "code",
   "execution_count": null,
   "metadata": {},
   "outputs": [],
   "source": [
    "res.x"
   ]
  },
  {
   "cell_type": "markdown",
   "metadata": {},
   "source": [
    "--------\n",
    "\n",
    "## 課題2\n",
    "\n",
    "次の関数の最小化問題を，SciPyのニュートンCG法を用いて解け．\n",
    "\n",
    "$$\n",
    "f(x)=\\sin\\left(x_0x_1\\right)+\\left(x_0+x_1-1\\right)^2 + \\left(x_0-x_1+1\\right)^4 \n",
    "$$\n",
    "\n",
    "その際，`minimize`の引数`jac=jacob`としてヤコビ行列を指定せよ．ここで，`jacob` はヤコビ行列を指定する関数である。\n",
    "\n",
    "```\n",
    "def func(x):\n",
    "    return np.sin(........)......... ♯適切に書き換えてください。\n",
    "\n",
    "```\n",
    "\n",
    "--------\n"
   ]
  },
  {
   "cell_type": "code",
   "execution_count": null,
   "metadata": {},
   "outputs": [],
   "source": [
    "def func(x):\n",
    "    return np.sin(x[0]*x[1])+(x[0]+x[1]-1)**2+(x[0]-x[1]+1)**4"
   ]
  },
  {
   "cell_type": "code",
   "execution_count": null,
   "metadata": {},
   "outputs": [],
   "source": [
    "def jacob(x):\n",
    "    return np.array((4*(1+x[0]-x[1])**3+2*(x[0]+x[1]-1)+x[1]*np.cos(x[0]*x[1]),-4*(1+x[0]-x[1])**3+2*(x[0]+x[1]-1)+x[0]*np.cos(x[0]*x[1])))"
   ]
  },
  {
   "cell_type": "code",
   "execution_count": null,
   "metadata": {},
   "outputs": [],
   "source": [
    "#ニュートンCG法で解くプログラム"
   ]
  },
  {
   "cell_type": "markdown",
   "metadata": {},
   "source": [
    "--------------------\n"
   ]
  },
  {
   "cell_type": "markdown",
   "metadata": {},
   "source": [
    "# 最適化技術実験 第2回　レポート\n",
    "### 学生番号 000000 氏名 青学太郎\n",
    "\n",
    "(ここから下に，レポートを作成してください。レポートを作成したら，「File」->「Save and Checkpoint」でこのjupyter notebookファイルを保存し，さらに，「File」->「Download as」->「Notebook(.ipynb)」を選択して手元のPCにダウンロードしてください．ダウンロードしたファイルの名前を「学生番号-氏名.ipynb」に変更して，CoursePowerから提出してください．ここで，ファイル名内の\"学生番号\"は1から始まる自分の学生番号に，\"氏名\"は自分の氏名に置き換えてください．）"
   ]
  },
  {
   "cell_type": "code",
   "execution_count": null,
   "metadata": {},
   "outputs": [],
   "source": []
  }
 ],
 "metadata": {
  "kernelspec": {
   "display_name": "Python 3",
   "language": "python",
   "name": "python3"
  },
  "language_info": {
   "codemirror_mode": {
    "name": "ipython",
    "version": 3
   },
   "file_extension": ".py",
   "mimetype": "text/x-python",
   "name": "python",
   "nbconvert_exporter": "python",
   "pygments_lexer": "ipython3",
   "version": "3.7.6"
  }
 },
 "nbformat": 4,
 "nbformat_minor": 4
}
