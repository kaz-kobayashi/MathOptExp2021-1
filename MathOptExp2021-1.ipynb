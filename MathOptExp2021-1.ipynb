{
 "cells": [
  {
   "cell_type": "markdown",
   "metadata": {},
   "source": [
    "# 2021年度　最適化技術実験\n",
    "\n",
    "\n",
    "## 第1回 2021年9月30日  ガイダンスと数理計画の導入\n",
    "\n",
    "- 実験環境（プログラム実行環境）の学習\n",
    "\n",
    "\n",
    "- 課題作成・提出手法の確認\n",
    "  1. Binderで，第1回用のJupyter Notebook(.ipynb)ファイルを開き，　課題に対する解答を作成する．そのためには，**課題**と書かれたセルにプログラムを作成し，実行結果を確認する．\n",
    "  2. 取り組んだ課題に対するレポートを作成する． それには，1で開いたファイルの末尾の「レポート」部分に内容を記述する．\n",
    "  3. 2までで更新したファイルを開いた状態で， メニュー 「File」->「Download as」->「Notebook (.ipynb)」を選択して，手元にダウンロードする。\n",
    "  4. 3でダウンロードしたファイルのファイル名を変更する．ファイル名は， 「学生番号-氏名-MathOptExp2021-1st.ipynb」でなければならない．　ファイル名のうち，\"学生番号\"は，1から始まる自分の学生番号に置き換え，\"氏名\"は，自分の氏名に置き換えること．例えば，学生番号 1711111の青学太郎は，ファイル名を「1711111-青学太郎-MathOptExp2021-1st.ipynb」でなければならない．\n",
    "  5. 4でファイル名を変更したファイルを， CoursePowerの「第1回レポート提出窓口」に提出する．\n",
    "\n",
    "\n",
    "- Pythonの基本的なプログラミング機能の学習"
   ]
  },
  {
   "cell_type": "markdown",
   "metadata": {},
   "source": [
    "# Pythonプログラミング\n",
    "\n",
    "## 必要なパッケージのimport\n",
    "\n",
    "利用するパッケージは，必要に応じてimportする必要がある。\n",
    "\n",
    "例えば，数値計算パッケージnumpyを利用するには，importする必要がある。importせずに使おうとした場合は，エラーが出る。"
   ]
  },
  {
   "cell_type": "code",
   "execution_count": null,
   "metadata": {},
   "outputs": [],
   "source": [
    "numpy.array([1,2,3])"
   ]
  },
  {
   "cell_type": "code",
   "execution_count": null,
   "metadata": {},
   "outputs": [],
   "source": [
    "import numpy\n",
    "numpy.array([1,2,3])"
   ]
  },
  {
   "cell_type": "markdown",
   "metadata": {},
   "source": [
    "`NameError: name 'numpy' is not defined`のメッセージが出た場合は，必要なパッケージをimportしたか確認する必要がある．\n",
    "\n",
    "importする際に，別名を付けることができる。numpyの別名としてnpが用いられることがおおい。"
   ]
  },
  {
   "cell_type": "code",
   "execution_count": null,
   "metadata": {},
   "outputs": [],
   "source": [
    "import numpy as np"
   ]
  },
  {
   "cell_type": "markdown",
   "metadata": {},
   "source": [
    "## 辞書\n",
    "\n",
    "Pythonは，データ構造として、辞書(dictionary)があります．これは，キーと値の組合せで定義されます．例えば，次のように定義することができます．"
   ]
  },
  {
   "cell_type": "code",
   "execution_count": null,
   "metadata": {},
   "outputs": [],
   "source": [
    "options={'xtol': 1e-8,'disp': True}"
   ]
  },
  {
   "cell_type": "markdown",
   "metadata": {},
   "source": [
    "これは，`options`という名前の辞書を定義するものである．この辞書のキーは，`xtol`と`disp`であり，値は，`1e-8`と`True`である．"
   ]
  },
  {
   "cell_type": "code",
   "execution_count": null,
   "metadata": {},
   "outputs": [],
   "source": [
    "print(options.keys())\n",
    "print(options.values())"
   ]
  },
  {
   "cell_type": "markdown",
   "metadata": {},
   "source": [
    "辞書にキーを指定すると，対応する値が返ります．使い方は，次のとおりである．"
   ]
  },
  {
   "cell_type": "code",
   "execution_count": null,
   "metadata": {},
   "outputs": [],
   "source": [
    "print(options['xtol'])\n",
    "print(options['disp'])"
   ]
  },
  {
   "cell_type": "markdown",
   "metadata": {},
   "source": [
    "要素を逐次的に追加する場合には，次のように，キーと値のペアを指定すればよい．次のプログラムは，まず`dict()`で空の辞書を作成し，キーと値のペアを辞書の要素として，('Jan','1月')，('Feb','2月')を順に追加するものです．"
   ]
  },
  {
   "cell_type": "code",
   "execution_count": null,
   "metadata": {},
   "outputs": [],
   "source": [
    "mt=dict()\n",
    "mt['Jan']='1月'\n",
    "mt['Feb']='2月'\n",
    "print(mt)"
   ]
  },
  {
   "cell_type": "markdown",
   "metadata": {},
   "source": [
    "--------\n",
    "\n",
    "## 課題1\n",
    "\n",
    "メンバーが4人の音楽グループのメンバーの名前と担当パートが次のの表に示してある。\n",
    "\n",
    "| vocal | guitar | base | drum | \n",
    "| :---: | :---: | :---: | :---: | \n",
    "|  Sudo   | Oka     | Ichikawa     | Iiyama |\n",
    "\n",
    "担当パートをキー，メンバーの名前を値とする辞書を，次の2通りの方法で作成せよ．\n",
    "\n",
    "1. すべての（キー，値）のペアを一度に定義する\n",
    "2. 最初に空の辞書を定義し，その後，（キー，値）のペアを，１つずつ，順に追加する．\n",
    "\n",
    "\n",
    "実行例: \n",
    "```\n",
    "print(mdist['vocal'])\n",
    "```\n",
    "の出力結果\n",
    "```\n",
    "Sudo\n",
    "```\n",
    "\n",
    "--------\n"
   ]
  },
  {
   "cell_type": "code",
   "execution_count": null,
   "metadata": {},
   "outputs": [],
   "source": [
    "#このセルに課題１のプログラムを作成してください。適宜，セルを追加して結構です。"
   ]
  },
  {
   "cell_type": "markdown",
   "metadata": {},
   "source": [
    "## 無限大\n",
    "無限大は，`numpy`で定義されており，`numpy.inf`で表される．\n"
   ]
  },
  {
   "cell_type": "code",
   "execution_count": null,
   "metadata": {},
   "outputs": [],
   "source": [
    "print(np.inf+np.inf)\n",
    "print(np.inf-np.inf)"
   ]
  },
  {
   "cell_type": "markdown",
   "metadata": {},
   "source": [
    "## 添え字の使い方\n",
    "\n",
    "配列の要素には，様々な方法でアクセスできる。"
   ]
  },
  {
   "cell_type": "code",
   "execution_count": null,
   "metadata": {},
   "outputs": [],
   "source": [
    "a = [0,10,20,30,40,50] #要素数は6\n",
    "print(a[0]) #最初要素の添え字は0\n",
    "print(a[5]) #最後の要素は，6-1でアクセスできる"
   ]
  },
  {
   "cell_type": "raw",
   "metadata": {},
   "source": [
    "スライスを使って複数の要素にアクセスすることができる．"
   ]
  },
  {
   "cell_type": "code",
   "execution_count": null,
   "metadata": {},
   "outputs": [],
   "source": [
    "print(a[:-1])"
   ]
  },
  {
   "cell_type": "markdown",
   "metadata": {},
   "source": [
    "かっこ`[]`の中に`:`を書くと，その前後に書かれた内容で配列の要素を切りだすことができる．"
   ]
  },
  {
   "cell_type": "code",
   "execution_count": null,
   "metadata": {
    "scrolled": true
   },
   "outputs": [],
   "source": [
    "print(a[:-1]) #最初の要素から，最後から1つ前までの要素にアクセス\n",
    "print(a[:-2]) #最初の要素から，最後から2つ前までの要素にアクセス\n",
    "print(a[1:]) #最初から2番目の要素から，最後の要素までにアクセス\n",
    "print(a[2:]) #最初から3番目の要素から，最後の要素までにアクセス\n",
    "print(a[2:-1]) #最初から3番目の要素から，最後から1つ前までの要素にアクセス"
   ]
  },
  {
   "cell_type": "markdown",
   "metadata": {},
   "source": [
    "--------\n",
    "\n",
    "## 課題2\n",
    "\n",
    "長さが7のリスト`a=[10,20,30,40,50,60,70]`と，長さが8のリスト`b=[1,2,3,4,5,6,7,8]`がある。\n",
    "`a`の3,4,5番目の要素と，`b`の6,7,8番目の要素を，スライスを用いて表示せよ．"
   ]
  },
  {
   "cell_type": "code",
   "execution_count": null,
   "metadata": {},
   "outputs": [],
   "source": [
    "#このセルに課題2のプログラムを作成してください。適宜，セルを追加して結構です。"
   ]
  },
  {
   "cell_type": "markdown",
   "metadata": {},
   "source": [
    "--------\n",
    "\n",
    "## 課題3\n",
    "\n",
    "文字列`x='UAUCGCUU`について，次の表現の結果を記せ．\n",
    "\n",
    "(1) `x[0]` \n",
    "\n",
    "(2) `x[2:4]`\n",
    "\n",
    "(3) `x[4]`\n",
    "\n",
    "(4) `x[:]`\n",
    "\n",
    "(5) `x[:-3]`\n",
    "\n",
    "(6) `x[-2:-1]`\n",
    "\n",
    "(7) `x[-5:4]`\n",
    "\n",
    "(8) `x[-5:-9]`\n",
    "\n",
    "(9) `x[1:]`\n"
   ]
  },
  {
   "cell_type": "markdown",
   "metadata": {},
   "source": [
    "解答欄\n",
    "\n",
    "(1)\n",
    "\n",
    "(2)\n",
    "\n",
    "(3)\n",
    "\n",
    "(4)\n",
    "\n",
    "(5) \n",
    "\n",
    "(6)\n",
    "\n",
    "(7)\n",
    "\n",
    "(8)\n",
    "\n",
    "(9)"
   ]
  },
  {
   "cell_type": "markdown",
   "metadata": {},
   "source": [
    "## 配列とスカラーの積\n",
    "\n",
    "`x`を，pythonのリストとして定義する。この場合，`x`とスカラー100との積は，1,2,3が100回繰り返される結果となる．"
   ]
  },
  {
   "cell_type": "code",
   "execution_count": null,
   "metadata": {},
   "outputs": [],
   "source": [
    "x=[1,2,3]\n",
    "print(100*x)"
   ]
  },
  {
   "cell_type": "markdown",
   "metadata": {},
   "source": [
    "一方で，`x`をnumpyの`asarray`によってnumpyの配列に変換したもの(axとする）と100の積をとると，各要素が100倍されたものが得られる．この地がには注意が必要である．"
   ]
  },
  {
   "cell_type": "code",
   "execution_count": null,
   "metadata": {},
   "outputs": [],
   "source": [
    "ax = np.asarray(x)\n",
    "print(100*ax)"
   ]
  },
  {
   "cell_type": "markdown",
   "metadata": {},
   "source": [
    "--------\n",
    "\n",
    "## 課題4\n",
    "行列$A$を次のように定義する．\n",
    "\n",
    "$$\n",
    "\\begin{bmatrix}\n",
    "1 & 2 & 3 \\\\\n",
    "3 & 2 & 1 \\\\\n",
    "1 & 2 & 4 \\\\\n",
    "\\end{bmatrix}\n",
    "$$\n",
    "\n",
    "(1)\n",
    "行列$A$をnumpy.arrayを用いて定義し，$3A$を求めるプログラムを作成せよ．\n"
   ]
  },
  {
   "cell_type": "code",
   "execution_count": null,
   "metadata": {},
   "outputs": [],
   "source": [
    "#このセルに(1)のプログラムを作成してください。"
   ]
  },
  {
   "cell_type": "markdown",
   "metadata": {},
   "source": [
    "(2) ベクトル $b=[1,2,5]^{\\top}$について，行列$A$との積$A*b$を求めるプログラムを作成せよ．\n",
    "\n",
    "[ヒント] `numpy.dot()`を用いる．"
   ]
  },
  {
   "cell_type": "code",
   "execution_count": null,
   "metadata": {},
   "outputs": [],
   "source": [
    "#このセルに(2)のプログラムを作成してください。"
   ]
  },
  {
   "cell_type": "markdown",
   "metadata": {},
   "source": [
    "-----"
   ]
  },
  {
   "cell_type": "markdown",
   "metadata": {},
   "source": [
    "## 関数の定義\n",
    "\n",
    "関数の定義は，次の形で行う．\n",
    "\n",
    "```python \n",
    "def func1(x):\n",
    "    y = x+2\n",
    "    return y\n",
    "```\n",
    "\n",
    "ここで，`func1`は関数名で，予約語を用いない範囲で好きにつけてよい．`()`内の`x`は引数を表す．`def func1(x)`の次の行から関数で行う処理を書く．ここでは，引数の値に2を加えたyを設定している．最後の`return y`は，計算した結果`y`を返すことを表す．"
   ]
  },
  {
   "cell_type": "code",
   "execution_count": null,
   "metadata": {},
   "outputs": [],
   "source": [
    "def func1(x):\n",
    "    y = x+2 \n",
    "    return y\n",
    "\n",
    "print(func1(3))"
   ]
  },
  {
   "cell_type": "markdown",
   "metadata": {},
   "source": [
    "関数は引数で指定することができる．例えば，次の関数は，a,b,cの3つの引数を用いるが，"
   ]
  },
  {
   "cell_type": "code",
   "execution_count": null,
   "metadata": {},
   "outputs": [],
   "source": [
    "#func(b=10, c=100, a=1)\n",
    "# a=1, b=10, c=100\n",
    "\n",
    "def func2(a,b,c):\n",
    "    return a*10000+b*100+c"
   ]
  },
  {
   "cell_type": "code",
   "execution_count": null,
   "metadata": {},
   "outputs": [],
   "source": [
    "print(func2(2,3,4))"
   ]
  },
  {
   "cell_type": "markdown",
   "metadata": {},
   "source": [
    "こうして引数を指定すると，最初の引数を`a`,　2番目の引数を`b`, 3番目の引数を`c`として処理する．\n",
    "\n",
    "一方で，`()`内で，`a=`などと指定することができる．例えば，次の呼び出しは，最初の引数`2`を`b=2`とすることで，`2`を`b`の値とすることができる．\n"
   ]
  },
  {
   "cell_type": "code",
   "execution_count": null,
   "metadata": {},
   "outputs": [],
   "source": [
    "print(func2(b=2,a=3,c=4))"
   ]
  },
  {
   "cell_type": "markdown",
   "metadata": {},
   "source": [
    "Pythonでは，関数を，他の関数の引数に指定することができる．次のセルでは，関数を引数とする関数`mfunc()`を定義している．この関数`mfunc()`は，`a,b,cfunc`と，3つの引数をとる．このうち，`cfunc`は関数である．`mfunc()`の行う処理は，引数で`cfunc`と指定された関数に，2つの引数`a`と`b`を与えて呼び，その返り値を返すというものである．次のセルでは，2つの引数`a`,`b`の和を求める関数`addf(a,b)`と，2つの引数`a`,`b`の積を求める関数`mulf(a,b)`も定義している。"
   ]
  },
  {
   "cell_type": "code",
   "execution_count": null,
   "metadata": {},
   "outputs": [],
   "source": [
    "def addf(a,b):\n",
    "    return a+b\n",
    "def mulf(a,b):\n",
    "    return a*b;\n",
    "def mfunc(a,b,cfunc):\n",
    "    return cfunc(a,b)"
   ]
  },
  {
   "cell_type": "markdown",
   "metadata": {},
   "source": [
    "`mfunc(2,3,addf)`では，`mfunc`の引数として，2つの数値`a`,`b`と，関数`addf`を与えている．この`mfunc(2,3,addf)`は，`addf(2,3)`を実行し，その結果を返す。したがって，その答えは，5である．一方，`mfunc(2,3,mulf)`は，`mulf(2,3)`を実行し，その結果を返す。したがって，その答えは6である．このように，引数として渡す関数によって，結果が変わる．"
   ]
  },
  {
   "cell_type": "code",
   "execution_count": null,
   "metadata": {},
   "outputs": [],
   "source": [
    "print(addf(1,2))\n",
    "print(\"add:\",mfunc(2,3,addf))\n",
    "print(\"mul:\",mfunc(2,3,mulf))"
   ]
  },
  {
   "cell_type": "markdown",
   "metadata": {},
   "source": [
    "関数である引数は，キーワードを指定して与えた方がわかりやすいです．この方法，これからの課題でよく出できますので，注意してください．"
   ]
  },
  {
   "cell_type": "code",
   "execution_count": null,
   "metadata": {},
   "outputs": [],
   "source": [
    "print(\"add:\",mfunc(2,3,cfunc=addf))\n",
    "print(\"mul:\",mfunc(2,3,cfunc=mulf))"
   ]
  },
  {
   "cell_type": "markdown",
   "metadata": {},
   "source": [
    "--------\n",
    "\n",
    "## 課題5\n",
    "\n",
    "2つのベクトル$a=[1,2,3,4]$,$b=[4,2,3,2]$を引数として，それらの内積を返す関数を定義せよ."
   ]
  },
  {
   "cell_type": "code",
   "execution_count": null,
   "metadata": {},
   "outputs": [],
   "source": [
    "#このセルに課題5のプログラムを作成してください。"
   ]
  },
  {
   "cell_type": "markdown",
   "metadata": {},
   "source": [
    "-----"
   ]
  },
  {
   "cell_type": "markdown",
   "metadata": {},
   "source": [
    "### 返り値\n",
    "\n",
    "関数の返り値は配列でもよいし，複数でもよいです．例えば，次の関数は，2つの引数の和と差の両方を返り値とする関数です．"
   ]
  },
  {
   "cell_type": "code",
   "execution_count": null,
   "metadata": {},
   "outputs": [],
   "source": [
    "def func4(a,b):\n",
    "    return a+b,a-b\n",
    "\n",
    "print(func4(5,2))"
   ]
  },
  {
   "cell_type": "markdown",
   "metadata": {},
   "source": [
    "## Numpyの関数\n",
    "\n",
    "numpyの関数として次のものを用います．\n",
    "\n",
    "### numpy.diag(x)\n",
    "xを対角成分とする対角行列を返します．\n"
   ]
  },
  {
   "cell_type": "code",
   "execution_count": null,
   "metadata": {},
   "outputs": [],
   "source": [
    "x=[1,2,3,4]\n",
    "print(np.diag(x))"
   ]
  },
  {
   "cell_type": "markdown",
   "metadata": {},
   "source": [
    "### numpy.sin(x)\n",
    "xを引数する正弦関数です．"
   ]
  },
  {
   "cell_type": "code",
   "execution_count": null,
   "metadata": {},
   "outputs": [],
   "source": [
    "print(np.sin(np.pi))\n",
    "print(np.sin(np.pi/2))\n",
    "print(np.sin(np.pi/6))"
   ]
  },
  {
   "cell_type": "markdown",
   "metadata": {},
   "source": [
    "## 行列の表現\n",
    "行列は，Pythonのリストの要素としてリストを指定することで表現できます．\n",
    "\n",
    "また，numpyのarray()を用いても表すことができます．"
   ]
  },
  {
   "cell_type": "markdown",
   "metadata": {},
   "source": [
    "$$\n",
    "\\begin{bmatrix}\n",
    "1 & 2 \\\\ \n",
    "3 & 4\n",
    "\\end{bmatrix}\n",
    "$$"
   ]
  },
  {
   "cell_type": "code",
   "execution_count": null,
   "metadata": {},
   "outputs": [],
   "source": [
    "l_2d = [[1, 2],[3, 4]] #pythonのリストによる表現\n",
    "print(l_2d) \n",
    "nl_2d = np.array([[1,2],[3,4]]) #numpy.arrayによる表現\n",
    "print(nl_2d)"
   ]
  },
  {
   "cell_type": "markdown",
   "metadata": {},
   "source": [
    "### 行列とスカラーの積\n",
    "行列とスカラーの積は，次のように求めることができます．\n"
   ]
  },
  {
   "cell_type": "code",
   "execution_count": null,
   "metadata": {},
   "outputs": [],
   "source": [
    "nl_2d = np.array([[1,2],[3,4]])\n",
    "print(5*nl_2d)"
   ]
  },
  {
   "cell_type": "markdown",
   "metadata": {},
   "source": [
    "これら，次の数式を表しています．\n",
    "\n",
    "$$\n",
    "5\\times\n",
    "\\begin{bmatrix}\n",
    "1 & 2 \\\\ \n",
    "3 & 4\n",
    "\\end{bmatrix}\n",
    "=\n",
    "\\begin{bmatrix}\n",
    "5 \\times 1 & 5 \\times  2 \\\\ \n",
    "5 \\times 3 &5 \\times  4\n",
    "\\end{bmatrix}\n",
    "=\n",
    "\\begin{bmatrix}\n",
    "5 & 10 \\\\ \n",
    "15 & 20\n",
    "\\end{bmatrix}\n",
    "$$"
   ]
  },
  {
   "cell_type": "markdown",
   "metadata": {},
   "source": [
    "--------\n",
    "\n",
    "## 課題6\n",
    "\n",
    "2つの行列を引数としてそれらの積を返り値とする関数を定義せよ．また，その関数を用いて，次の2つの行列の積を実際に計算せよ．\n",
    "\n",
    "$$\n",
    "A=\n",
    "\\begin{bmatrix}\n",
    "4&3\\\\\n",
    "2&1\n",
    "\\end{bmatrix},\n",
    "B=\n",
    "\\begin{bmatrix}\n",
    "1&2\\\\\n",
    "3&4\n",
    "\\end{bmatrix}\n",
    "$$\n"
   ]
  },
  {
   "cell_type": "code",
   "execution_count": null,
   "metadata": {},
   "outputs": [],
   "source": [
    "#このセルに課題6のプログラムを作成してください。"
   ]
  },
  {
   "cell_type": "markdown",
   "metadata": {},
   "source": [
    "-------"
   ]
  },
  {
   "cell_type": "markdown",
   "metadata": {},
   "source": [
    "### empty()\n",
    "\n",
    "numpyの`empty()`は，引数で指定したサイズのarrayを生成する．\n"
   ]
  },
  {
   "cell_type": "code",
   "execution_count": null,
   "metadata": {},
   "outputs": [],
   "source": [
    "np.empty([2,2])"
   ]
  },
  {
   "cell_type": "markdown",
   "metadata": {},
   "source": [
    "### linspace()\n",
    "\n",
    "`linspace(start,end,num)`は，`start`から`end`までの区間を`num`個に分割した値を返す．\n"
   ]
  },
  {
   "cell_type": "code",
   "execution_count": null,
   "metadata": {},
   "outputs": [],
   "source": [
    "np.linspace(2.0,3.0,num=5)"
   ]
  },
  {
   "cell_type": "markdown",
   "metadata": {},
   "source": [
    "## プロット"
   ]
  },
  {
   "cell_type": "markdown",
   "metadata": {},
   "source": [
    "テータのプロットには，matplotlibが用いられる．次の形で`plt`という名前がよく用いられる．"
   ]
  },
  {
   "cell_type": "code",
   "execution_count": null,
   "metadata": {},
   "outputs": [],
   "source": [
    "import matplotlib.pyplot as plt\n",
    "x=np.linspace(0,2*np.pi,100) #0から2piまでを100分割して点を生成する\n",
    "y=np.sin(x)\n",
    "plt.plot(x,y)"
   ]
  },
  {
   "cell_type": "markdown",
   "metadata": {},
   "source": [
    "# 最適化技術実験 第1回　レポート\n",
    "### 学生番号 000000 氏名 青学太郎\n",
    "\n",
    "(ここから下に，レポートを作成してください。レポートを作成したら，「File」->「Save and Checkpoint」でこのjupyter notebookファイルを保存し，さらに，「File」->「Download as」->「Notebook(.ipynb)」を選択して手元のPCにダウンロードしてください．ダウンロードしたファイルの名前を「学生番号-氏名.ipynb」に変更して，CoursePowerから提出してください．ここで，ファイル名内の\"学生番号\"は1から始まる自分の学生番号に，\"氏名\"は自分の氏名に置き換えてください．）"
   ]
  },
  {
   "cell_type": "code",
   "execution_count": null,
   "metadata": {},
   "outputs": [],
   "source": []
  }
 ],
 "metadata": {
  "kernelspec": {
   "display_name": "Python 3",
   "language": "python",
   "name": "python3"
  },
  "language_info": {
   "codemirror_mode": {
    "name": "ipython",
    "version": 3
   },
   "file_extension": ".py",
   "mimetype": "text/x-python",
   "name": "python",
   "nbconvert_exporter": "python",
   "pygments_lexer": "ipython3",
   "version": "3.7.6"
  }
 },
 "nbformat": 4,
 "nbformat_minor": 4
}
