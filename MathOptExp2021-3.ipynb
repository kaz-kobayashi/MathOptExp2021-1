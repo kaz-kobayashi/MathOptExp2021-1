{
 "cells": [
  {
   "cell_type": "markdown",
   "metadata": {},
   "source": [
    "#  Scipyによる最適化 -第3回-\n",
    "\n",
    "Scientific computing tools or Python\n",
    "\n",
    "https://docs.scipy.org/doc/scipy/reference/tutorial/optimize.html\n",
    "\n",
    "SciPyは，Pythonによる科学技術計算のためのオープンソースソフトウェアを利用可能な仕組みである。\n",
    "\n",
    "Scipyは，NumPyパッケージを内部で用いている。具体的には，NumPyで定義された基本的なデータ構造（配列や行列）や，基本的な演算を用いている。また，図示するためにはMatplotlibを用いている。\n",
    "\n",
    "\n",
    "# 制約付き最適化（多変数スカラー関数）\n",
    "\n",
    "\n",
    "`minimize`は，制約付き最適化問題を解くこともできる。ここでは，`trust-constr` を用いる方法を学ぶ。\n",
    "\n",
    "ここで扱う問題は，次の制約付き最適化問題である。\n",
    "\n",
    "$$ \n",
    "\\text{最小化}_{x_0,x_1}  \\ \\ 100\\left(x_1-x_0^2 \\right)^2 + \\left(1-x_0\\right)^2 \n",
    "$$\n",
    "\n",
    "$$\n",
    "\\begin{array}{ll}\n",
    "\\text{制約条件} &  x_0+2x_1 \\leq 1 \\\\\n",
    "& x_0^2+x_1 \\leq 1 \\\\ \n",
    "& x_0^2-x_1 \\leq 1 \\\\ \n",
    "& 2x_0+x_1 = 1 \\\\ \n",
    "& 0 \\leq x_0 \\leq 1 \\\\ \n",
    "& -0.5 \\leq x_1 \\leq 2.0\n",
    "\\end{array}\n",
    "$$\n",
    "\n",
    "`trust-constr`を用いることで，信頼領域制約アルゴリズム(Trust-Region Constrained Algorithm)を実行することができる。信頼領域制約アルゴリズムでは，次の最適化問題を解くことができる。\n",
    "\n",
    "$$\n",
    "\\begin{array}{ll}\n",
    "\\text{最小化}_x & f(x) \\\\\n",
    "\\text{制約条件} &  c^{\\ell} \\leq c(x) \\leq c^u \\\\\n",
    "& x^{\\ell} \\leq x \\leq x^u.\n",
    "\\end{array}\n",
    "$$\n",
    "\n",
    "\n",
    "$c^{\\ell}$はベクトルである。その$j$番目の要素$c^{\\ell}_j$について$c^{\\ell}_j=c^u_j$であれば，$j$番目の制約は等式制約であることを指定する。"
   ]
  },
  {
   "cell_type": "markdown",
   "metadata": {},
   "source": [
    "## 上下限制約\n",
    "\n",
    "上下限制約$0 \\leq x_0 \\leq 1$と$-0.5 \\leq x_1 \\leq 2.0$は，`Bounds`オブジェクトを用いて次のように定義できる。"
   ]
  },
  {
   "cell_type": "code",
   "execution_count": null,
   "metadata": {},
   "outputs": [],
   "source": [
    "from scipy.optimize import Bounds \n",
    "bounds = Bounds([0,-0.5],[1.0,2.0])"
   ]
  },
  {
   "cell_type": "markdown",
   "metadata": {},
   "source": [
    "## 線形制約\n",
    "線形制約 $x_0+2x_1 \\leq 1$と$2x_0+x_1=1$は，次の標準形で行列を用いて表される。　\n",
    "\n",
    "$$\n",
    "\\begin{bmatrix}\n",
    "-\\infty \\\\ \n",
    "1\n",
    "\\end{bmatrix}\n",
    "\\leq\n",
    "\\begin{bmatrix}\n",
    "1 & 2 \\\\ \n",
    "2 & 1 \n",
    "\\end{bmatrix}\n",
    "\\begin{bmatrix}\n",
    "x_0 \\\\ \n",
    "x_1 \n",
    "\\end{bmatrix}\n",
    "\\leq \n",
    "\\begin{bmatrix}\n",
    "1 \\\\\n",
    "1\n",
    "\\end{bmatrix}.\n",
    "$$\n",
    "これら２つの線形制約を表すプログラムは，次のとおりである。\n"
   ]
  },
  {
   "cell_type": "code",
   "execution_count": null,
   "metadata": {},
   "outputs": [],
   "source": [
    "from scipy.optimize import LinearConstraint \n",
    "linear_constraint = LinearConstraint([[1,2],[2,1]],[-np.inf,1],[1,1]) "
   ]
  },
  {
   "cell_type": "markdown",
   "metadata": {},
   "source": [
    "## 非線形制約\n",
    "\n",
    "線形制約の場合と同様に，2つの非線形制約は，次の形式で表される。\n",
    "\n",
    "$$\n",
    "c(x)\n",
    "=\n",
    "\\begin{bmatrix}\n",
    "c_0(x) \\\\\n",
    "c_1(x)\n",
    "\\end{bmatrix}\n",
    "=\n",
    "\\begin{bmatrix}\n",
    "x_0^2 + x_1 \\\\ \n",
    "x_0^2 - x_1\n",
    "\\end{bmatrix}\n",
    "\\leq \n",
    "\\begin{bmatrix}\n",
    "1 \\\\ \n",
    "1\n",
    "\\end{bmatrix}\n",
    "$$\n",
    "\n",
    "ここで定めた関数$c(x)$ のヤコビ行列$J(x)$は次のものとなる。\n",
    "$$\n",
    "J(x) = \n",
    "\\begin{bmatrix}\n",
    "\\frac{\\partial c_0}{\\partial x_0} & \\frac{\\partial c_0}{\\partial x_1} \\\\ \n",
    "\\frac{\\partial c_1}{\\partial x_0} & \\frac{\\partial c_1}{\\partial x_1}\n",
    "\\end{bmatrix}\n",
    "=\n",
    "\\begin{bmatrix}\n",
    "2x_0 & 1 \\\\ \n",
    "2x_0 & -1\n",
    "\\end{bmatrix}\n",
    "$$\n",
    "\n",
    "また，$c_0(x)$のヘッセ行列$\\nabla^2 c_0$と$c_1(x)$のヘッセ行列$\\nabla^2 c_1$は，それぞれ\n",
    "\n",
    "$$\n",
    "\\nabla^2 c_0=\n",
    "\\begin{bmatrix}\n",
    "\\frac{\\partial^2 c_0}{\\partial^2 x_0} & \\frac{\\partial^2 c_0}{\\partial x_0 \\partial x_1} \\\\  \n",
    "\\frac{\\partial^2 c_0}{\\partial x_1 \\partial x_0} & \\frac{\\partial^2 c_0}{\\partial x_1^2}\n",
    "\\end{bmatrix}\n",
    "=\n",
    "\\begin{bmatrix}\n",
    " 2&0  \\\\  \n",
    " 0&0\n",
    "\\end{bmatrix},\n",
    "\\nabla^2 c_1=\n",
    "\\begin{bmatrix}\n",
    "\\frac{\\partial^2 c_1}{\\partial^2 x_0} & \\frac{\\partial^2 c_1}{\\partial x_0 \\partial x_1} \\\\  \n",
    "\\frac{\\partial^2 c_1}{\\partial x_1 \\partial x_0} & \\frac{\\partial^2 c_1}{\\partial x_1^2}\n",
    "\\end{bmatrix}\n",
    "=\n",
    "\\begin{bmatrix}\n",
    " 2&0  \\\\  \n",
    " 0&0\n",
    "\\end{bmatrix},\n",
    "$$\n",
    "となるので，それらの線形結合は\n",
    "$$\n",
    "H(x,v)=\\sum_{i=0}^1 v_i \\nabla^2 c_i(x) = \n",
    "v_0 \n",
    "\\begin{bmatrix}\n",
    "2 & 0 \\\\\n",
    "0 & 0\n",
    "\\end{bmatrix}\n",
    "+v_1\n",
    "\\begin{bmatrix}\n",
    "2 & 0 \\\\ \n",
    "0 & 0\n",
    "\\end{bmatrix}\n",
    "$$\n",
    "と表される。この制約は，`NonlinearConstraint`オブジェクトを用いて次のように表すことができる。"
   ]
  },
  {
   "cell_type": "code",
   "execution_count": null,
   "metadata": {},
   "outputs": [],
   "source": [
    "def cons_f(x):\n",
    "    return [x[0]**2+x[1],x[0]**2-x[1]]\n",
    "\n",
    "def cons_J(x):\n",
    "    return [[2*x[0],1],[2*x[0],-1]]\n",
    "\n",
    "def cons_H(x,v):\n",
    "    return v[0]*np.array([[2,0],[0,0]])+v[1]*np.array([[2,0],[0,0]])"
   ]
  },
  {
   "cell_type": "code",
   "execution_count": null,
   "metadata": {},
   "outputs": [],
   "source": [
    "from scipy.optimize import NonlinearConstraint \n",
    "nonlinear_constraint = NonlinearConstraint(cons_f,-np.inf,1,jac=cons_J,hess=cons_H)"
   ]
  },
  {
   "cell_type": "markdown",
   "metadata": {},
   "source": [
    "`NonlinearConstraint` の最初の引数として指定している`cons_f`は，$c_1(x)$と$c_2(x)$を返り値とする関数(`cons_f`)です。二番目の引数は，$c_1(x)$と$c_2(x)$の下限を指定します。この問題では下限は指定されていないので，マイナス無限大としています。第1成分も第2成分も同じ値なので，`-np.inf`を1つだけ指定しています。3番目の引数は，上限を定めるものです。これも，第1成分と第2成分で同じ1なので，1つのスカラー値1を指定しています。`jac=`ではヤコビ行列を指定します。ヤコビ行列の指定には，`jac=`に続いてヤコビ行列を返す関数を与えます。ヤコビ行列は2x2行列なので，関数`jacob`は2x2の行列を返す関数です。行列は，2つの要素を持つ配列を2つの成分とする配列`[[2*x[0],1],[2*x[0],-1]]`で表されています。\n",
    "\n"
   ]
  },
  {
   "cell_type": "markdown",
   "metadata": {},
   "source": [
    "## 最適化\n",
    "\n",
    "こうして定義した要素を用いて，制約付き最適化問題を解くプログラムは，次の通りです。"
   ]
  },
  {
   "cell_type": "code",
   "execution_count": null,
   "metadata": {},
   "outputs": [],
   "source": [
    "x0 = np.array([0.5, 0])\n",
    "res = minimize(rosen, x0, method='trust-constr', jac=rosen_der, hess=rosen_hess,\n",
    "               constraints=[linear_constraint, nonlinear_constraint],\n",
    "               options={'verbose': 1}, bounds=bounds)\n",
    "print(res.x)\n"
   ]
  },
  {
   "cell_type": "code",
   "execution_count": null,
   "metadata": {},
   "outputs": [],
   "source": [
    "def cf(x):\n",
    "    return 13*x[0]**2+10*x[0]*x[1]+7*x[1]**2+x[0]+x[1]+2\n",
    "\n",
    "lc = LinearConstraint([[2,-5],[1,1]],[2,1],[2,1]) \n",
    "\n",
    "x0 = np.array([0.5, 0])\n",
    "res = minimize(cf, x0, method='trust-constr',constraints=[lc],\n",
    "               options={'verbose': 1}, bounds=bounds)\n",
    "print(res.x)"
   ]
  },
  {
   "cell_type": "markdown",
   "metadata": {},
   "source": [
    "--------\n",
    "\n",
    "## 課題3\n",
    "\n",
    "(1) 次の制約付き最小化問題を，`minimize`を用いて解け。\n",
    "\n",
    "$$\n",
    "\\begin{array}{ll}\n",
    "\\text{最小化} & 13x_0^2+10x_0x_1+7x_1^2+x_0+x_1+2 \\\\\n",
    "\\text{制約条件} & 2x_0-5x_1 = 2 \\\\ \n",
    "& x_0+x_1 =1\n",
    "\\end{array}\n",
    "$$\n",
    "\n",
    "(2) 次の制約付き最小化問題を，`minimize`を用いて解け。\n",
    "\n",
    "$$\n",
    "\\begin{array}{ll}\n",
    "\\text{最小化} & 13x_0^2+10x_0x_1+7x_1^2+x_0+x_1+2 \\\\\n",
    "\\text{制約条件} & 2\\sin(x_0)-5x_1 \\leq 2 \\\\ \n",
    "& x_0+x_1 =1\n",
    "\\end{array}\n",
    "$$\n",
    "\n",
    "\n",
    "--------\n"
   ]
  },
  {
   "cell_type": "code",
   "execution_count": null,
   "metadata": {},
   "outputs": [],
   "source": [
    "##ここにプログラムを作成してください\n",
    "\n",
    "#def cf(x):\n",
    "#    ...    \n",
    "\n",
    "#def cons_f1(x):\n",
    "#    ...\n",
    "    \n",
    "#def cons_J1(x):\n",
    "#    ...\n",
    "\n",
    "#def cons_H1(x,v):\n",
    "#    ... \n",
    "    \n",
    "#nlcst = NonlinearConstraint(...)\n",
    "\n",
    "#res = minimize(... )\n",
    "\n",
    "#print(res.x)"
   ]
  },
  {
   "cell_type": "markdown",
   "metadata": {},
   "source": [
    "# 大域的最適化 \n",
    "\n",
    "ここまで述べたアルゴリズムでは，大域的最適解ではなく，局所最適解が得られる。局所最適解を求めるアルゴリズムは，一般的に，初期解から始めてよりよい解を反復的に探索し，それ以上（局所的に）改善できなくなったらアルゴリズムを終了する。それに対して，ここでは，大域的最適解を求めようとするアルゴリズムを扱う。大域的最適解を求めようとするアルゴリズムも，初期解から始めてよりよい解を探索するが，局所的に改善できない解（局所最適解）に到達しても，そこからさらによりよい解を求めようとする。このとき，局所最適解から抜け出してさらに解の探索を進める方法の違いにより，様々なアルゴリズムが得られる。ただし，それらのアルゴリズムの実行が終了しても，必ずしも最適解が得られているとは限らない。\n",
    "\n",
    "SciPyは，大域的最適解を求めるアルゴリズムをいくつか提供している。ここでは，次で定義される`eggholder`関数を扱う。\n",
    "\n",
    "$$\n",
    "f(x)=\\left(\n",
    "-\\left(x_1+47\\right)) \\sin \\left( \\sqrt{\\left| x_0/2+\\left(x_1+47\\right)\\right|} \\right) \n",
    "-x_0 \\sin\\left( \\sqrt{|x_0-\\left(x_1+47\\right)|} \\right)\n",
    "   \\right)\n",
    "$$\n",
    "\n",
    "\n",
    "この`eggholder`関数をPythonで定義するには，次のようにする。"
   ]
  },
  {
   "cell_type": "code",
   "execution_count": null,
   "metadata": {},
   "outputs": [],
   "source": [
    "def eggholder(x):\n",
    "    return (-(x[1] + 47) * np.sin(np.sqrt(abs(x[0]/2 + (x[1]  + 47))))\\\n",
    "            -x[0] * np.sin(np.sqrt(abs(x[0] - (x[1]  + 47)))))\n",
    "\n",
    "bounds = [(-512, 512), (-512, 512)]"
   ]
  },
  {
   "cell_type": "markdown",
   "metadata": {},
   "source": [
    "この関数を，`matplotlib`の機能を用いて図示する。まず，必要な機能を`import`する。"
   ]
  },
  {
   "cell_type": "code",
   "execution_count": null,
   "metadata": {},
   "outputs": [],
   "source": [
    "import matplotlib.pyplot as plt\n",
    "from mpl_toolkits.mplot3d import Axes3D"
   ]
  },
  {
   "cell_type": "markdown",
   "metadata": {},
   "source": [
    "`x`を，-512から513までの範囲で値をとる数，`y`を，-512から513までの範囲で値をとる数とする。さらに，`meshgrid`関数を用いて，`x`と`y`の値のペアを生成する。"
   ]
  },
  {
   "cell_type": "code",
   "execution_count": null,
   "metadata": {},
   "outputs": [],
   "source": [
    "x = np.arange(-512,513)\n",
    "y = np.arange(-512,513)\n",
    "xgrid, ygrid = np.meshgrid(x,y)\n",
    "xy = np.stack([xgrid,ygrid])"
   ]
  },
  {
   "cell_type": "markdown",
   "metadata": {},
   "source": [
    "各(x,y)の値における`eggholder`関数の値を，`plot_surface`関数を用いてプロットする。"
   ]
  },
  {
   "cell_type": "code",
   "execution_count": null,
   "metadata": {},
   "outputs": [],
   "source": [
    "fig = plt.figure()\n",
    "ax=fig.add_subplot(111,projection='3d')\n",
    "ax.view_init(45,-45)\n",
    "ax.plot_surface(xgrid,ygrid,eggholder(xy),cmap='terrain')\n",
    "ax.set_xlabel('x')\n",
    "ax.set_ylabel('y')\n",
    "ax.set_zlabel('eggholder(x,y)')\n",
    "plt.show()"
   ]
  },
  {
   "cell_type": "markdown",
   "metadata": {},
   "source": [
    "プロットの結果からわかるように，この関数には局所最適解が多数ある。\n",
    "\n",
    "次に，この`eggholder`関数の最小解を，異なるアルゴリズムによって計算する。複数のアルゴリズムの実行結果を保存して比較したいので，計算結果を保存する辞書`results`を用意する。まず，`optimize.shgo`による計算結果を，`result['shgo']`に保管する。 `optimize.shgo`は，simplicial homology global optimizationを実行するものである。"
   ]
  },
  {
   "cell_type": "code",
   "execution_count": null,
   "metadata": {},
   "outputs": [],
   "source": [
    "from scipy import optimize \n",
    "results = dict()\n",
    "results['shgo']=optimize.shgo(eggholder,bounds)\n",
    "results['shgo']"
   ]
  },
  {
   "cell_type": "markdown",
   "metadata": {},
   "source": [
    "これより，得られた最適値は，-935.34であることがわかる。\n",
    "\n",
    "次に，Dual Anealing法により最適解を得ようとする。\n",
    "\n"
   ]
  },
  {
   "cell_type": "code",
   "execution_count": null,
   "metadata": {},
   "outputs": [],
   "source": [
    "results['DA'] = optimize.dual_annealing(eggholder, bounds)\n",
    "results['DA']"
   ]
  },
  {
   "cell_type": "markdown",
   "metadata": {},
   "source": [
    "このように，`shgo`の場合よりも目的関数値の小さい解が得られている。このことは，`shgo`で得られた解が大域的最適解ではないことを示している。"
   ]
  },
  {
   "cell_type": "markdown",
   "metadata": {},
   "source": [
    "--------\n",
    "\n",
    "## 課題4\n",
    "\n",
    "差分進化(differential evolution)とBasin Hoppingにより，`eggholder`関数を最小化せよ。得られた結果は，それぞれ`result['DE']`, `result['BH']`に保存せよ。さらに，これらの得られた結果と`result['shgo'], result['DA']`を比較せよ。\n",
    "\n",
    "--------\n"
   ]
  },
  {
   "cell_type": "code",
   "execution_count": null,
   "metadata": {},
   "outputs": [],
   "source": [
    "##ここにプログラムを作成してください\n",
    "\n",
    "#results['DE'] = optimize.....\n",
    "#results['BH'] = optimize....."
   ]
  },
  {
   "cell_type": "markdown",
   "metadata": {},
   "source": [
    "-----------"
   ]
  },
  {
   "cell_type": "markdown",
   "metadata": {},
   "source": [
    "# 最適化技術実験 第3回　レポート\n",
    "### 学生番号 000000 氏名 青学太郎\n",
    "\n",
    "(ここから下に，レポートを作成してください。レポートを作成したら，「File」->「Save and Checkpoint」でこのjupyter notebookファイルを保存し，さらに，「File」->「Download as」->「Notebook(.ipynb)」を選択して手元のPCにダウンロードしてください．ダウンロードしたファイルの名前を「学生番号-氏名.ipynb」に変更して，CoursePowerから提出してください．ここで，ファイル名内の\"学生番号\"は1から始まる自分の学生番号に，\"氏名\"は自分の氏名に置き換えてください．）"
   ]
  },
  {
   "cell_type": "code",
   "execution_count": null,
   "metadata": {},
   "outputs": [],
   "source": []
  }
 ],
 "metadata": {
  "kernelspec": {
   "display_name": "Python 3",
   "language": "python",
   "name": "python3"
  },
  "language_info": {
   "codemirror_mode": {
    "name": "ipython",
    "version": 3
   },
   "file_extension": ".py",
   "mimetype": "text/x-python",
   "name": "python",
   "nbconvert_exporter": "python",
   "pygments_lexer": "ipython3",
   "version": "3.8.3"
  }
 },
 "nbformat": 4,
 "nbformat_minor": 4
}
